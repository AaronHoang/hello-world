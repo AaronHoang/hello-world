{
  "nbformat": 4,
  "nbformat_minor": 0,
  "metadata": {
    "colab": {
      "provenance": [],
      "include_colab_link": true
    },
    "kernelspec": {
      "name": "python3",
      "display_name": "Python 3"
    },
    "language_info": {
      "name": "python"
    }
  },
  "cells": [
    {
      "cell_type": "markdown",
      "metadata": {
        "id": "view-in-github",
        "colab_type": "text"
      },
      "source": [
        "<a href=\"https://colab.research.google.com/github/AaronHoang/hello-world/blob/master/Google_Colab_Quiz_3.ipynb\" target=\"_parent\"><img src=\"https://colab.research.google.com/assets/colab-badge.svg\" alt=\"Open In Colab\"/></a>"
      ]
    },
    {
      "cell_type": "markdown",
      "source": [
        "# Getting started with Colaboratory or Colab for short!\n",
        "\n",
        "\n",
        "---\n",
        "\n",
        "\n",
        "The first thing you want to do is create your own copy!  Name your copy Colab1 with your first name after.  So mine would be Colab1Sandy\n",
        "\n",
        "\n",
        "---\n",
        "\n",
        "\n",
        "The document you are reading is not a static web page, but an interactive environment called a Colab notebook that lets you write and execute code.\n",
        "\n",
        "For example, below is a code cell with a short Python script that computes a value, stores it in a variable, and prints the result:\n"
      ],
      "metadata": {
        "id": "Qb3uVQZyJnBx"
      }
    },
    {
      "cell_type": "code",
      "source": [
        "seconds_in_a_day = 24*60*60              #this line of code creates the variable named seconds_in_a_day\n",
        "\n",
        "seconds_in_a_day                         #this line of code displays the value stored in the variable"
      ],
      "metadata": {
        "colab": {
          "base_uri": "https://localhost:8080/"
        },
        "id": "skSpB60mrHvu",
        "outputId": "2fe8ef3f-64a6-45e6-b177-7f0fd8e151a1"
      },
      "execution_count": 1,
      "outputs": [
        {
          "output_type": "execute_result",
          "data": {
            "text/plain": [
              "86400"
            ]
          },
          "metadata": {},
          "execution_count": 1
        }
      ]
    },
    {
      "cell_type": "markdown",
      "source": [
        "To execute the code in the above cell, select it with a click and then either press the play button to the left of the code, or use the keyboard shortcut \"Command/Ctrl+Enter\". To edit the code, just click the cell and start editing.\n",
        "\n",
        "Variables that you define in one cell can later be used in other cells:\n",
        "Colab notebooks allow you to combine executable code and rich text in a single document, along with images, HTML, LaTeX and more. When you create your own Colab notebooks, they are stored in your Google Drive account. You can easily share your Colab notebooks with co-workers or friends, allowing them to comment on your notebooks or even edit them. To learn more, see [Overview of Colab](https://colab.research.google.com/notebooks/basic_features_overview.ipynb). To create a new Colab notebook you can use the File menu above, or use the following link: [create a new Colab notebook](https://colab.research.google.com/drive/10ZvPKNtF06llb3diHv0VstGOkwS_Rxc5).\n",
        "\n",
        "FYI:  If you are familiar with Jupyter notebooks, Colab notebooks are like Jupyter notebooks that are hosted by Colab. To learn more about the Jupyter project, see jupyter.org.  "
      ],
      "metadata": {
        "id": "dnbmlXb7LD0h"
      }
    },
    {
      "cell_type": "markdown",
      "source": [
        "# Next we are going to import a module that allows us to use Computer Algebra Systems within any Python notebook.  The module is called SymPy for Symbolic Algebra System for Python."
      ],
      "metadata": {
        "id": "2Fm02b_fOlHo"
      }
    },
    {
      "cell_type": "code",
      "source": [
        "from sympy import *              #This imports a computer algebra system or math library that includes commands to do the matrix operations for you!\n",
        "                                  #Note that putting in the pound symbol allows you to put text in a code cell.\n",
        "                                  #SymPy is one useful library that you can import and there are many more!\n"
      ],
      "metadata": {
        "id": "HFQM2Q3yMnKE"
      },
      "execution_count": null,
      "outputs": []
    },
    {
      "cell_type": "markdown",
      "source": [
        "# The init_printing() command in the code cell below will allow us get nice-looking  \n",
        "\n",
        "---\n",
        "\n",
        "LATEX  formatted output.  Run the next cell."
      ],
      "metadata": {
        "id": "7FxxJgGwPLLD"
      }
    },
    {
      "cell_type": "code",
      "source": [
        "init_printing()"
      ],
      "metadata": {
        "id": "f2Ejp926PhRu"
      },
      "execution_count": null,
      "outputs": []
    },
    {
      "cell_type": "markdown",
      "source": [
        "In the next cell we are going to define a matrix A that has 2 rows.  Not that the rows are bracketed and that there are brackets around the entire matrix."
      ],
      "metadata": {
        "id": "6LxYWR3gQLCm"
      }
    },
    {
      "cell_type": "code",
      "source": [
        "A = Matrix([[1,2,5],[3,4,7]])                #The syntax is extremely important!  Note the brackets and parentheses!\n",
        "                                    #This line of code creates the variable A and stores the matrix in A."
      ],
      "metadata": {
        "id": "Lp0v2Gk-Qalp"
      },
      "execution_count": null,
      "outputs": []
    },
    {
      "cell_type": "markdown",
      "source": [
        "# In the next cell we are going to print out our matrix A."
      ],
      "metadata": {
        "id": "7zk4aP9tQeEh"
      }
    },
    {
      "cell_type": "code",
      "source": [
        "A             #This code cell displays the matrix A.  The init_printing() command above is how we get it to print pretty.\n"
      ],
      "metadata": {
        "colab": {
          "base_uri": "https://localhost:8080/",
          "height": 58
        },
        "id": "scv15PCqQkQx",
        "outputId": "b15f16e4-c41f-4f10-d1fc-0247bcfc81a9"
      },
      "execution_count": null,
      "outputs": [
        {
          "output_type": "execute_result",
          "data": {
            "text/plain": [
              "⎡1  2  5⎤\n",
              "⎢       ⎥\n",
              "⎣3  4  7⎦"
            ],
            "text/latex": "$\\displaystyle \\left[\\begin{matrix}1 & 2 & 5\\\\3 & 4 & 7\\end{matrix}\\right]$"
          },
          "metadata": {},
          "execution_count": 6
        }
      ]
    },
    {
      "cell_type": "markdown",
      "source": [
        "\n",
        "\n",
        "---\n",
        "\n"
      ],
      "metadata": {
        "id": "Vja9y3GzcLlN"
      }
    },
    {
      "cell_type": "markdown",
      "source": [
        "# Now, it's your turn!\n",
        "You are going to create a code cell and use it to define a matrix and print the matrix.\n",
        "To create a cell:  Below this text cell if you hover your mouse you will see a line appear and you can see how to add a code cell or a text cell. Add a code cell by clicking on the +Code that appears when you hover over the line.\n",
        "\n",
        "Define the **matrix B** to be a 3x3 matrix with entries in **row 1** to be 5, 1, 1, the entries in **row 2** to be 1, 2, 1 and the entries in **row 3** to be 2, 2, 2. In the same code cell, print your matrix B. By print, we mean print to the screen.\n",
        "\n"
      ],
      "metadata": {
        "id": "WIKJPFqRZWgM"
      }
    },
    {
      "cell_type": "markdown",
      "source": [
        "\n",
        "\n",
        "---\n",
        "\n"
      ],
      "metadata": {
        "id": "MeNPNhcdkByr"
      }
    },
    {
      "cell_type": "markdown",
      "source": [
        "How would you write the matrix consisting of one column with entries 5, 4, 7 and 8?  Create a code cell and define the matrix as C. Then print the matrix C to see if you are correct!"
      ],
      "metadata": {
        "id": "2Vx2Hi8NkDwT"
      }
    },
    {
      "cell_type": "markdown",
      "source": [
        "\n",
        "\n",
        "---\n",
        "\n"
      ],
      "metadata": {
        "id": "gEzp80ZucIv5"
      }
    },
    {
      "cell_type": "markdown",
      "source": [
        "Now, we want to have Python **Multiply the matrices A and B.**  \n",
        "\n",
        "We use the * to represent multiplication.\n",
        "Create 2 code cells and display both products AB and BA in separate code cells.  \n"
      ],
      "metadata": {
        "id": "mujZacMNaqwC"
      }
    },
    {
      "cell_type": "markdown",
      "source": [
        "\n",
        "\n",
        "---\n",
        "\n"
      ],
      "metadata": {
        "id": "JFE-xbN9c2AP"
      }
    },
    {
      "cell_type": "markdown",
      "source": [
        "Now we will learn how to use the rref command from SymPy.  To obtain the reduced-row echelon form of the matrix A we will execute the code cell below."
      ],
      "metadata": {
        "id": "rCZCDasPc5um"
      }
    },
    {
      "cell_type": "code",
      "source": [
        "A.rref()"
      ],
      "metadata": {
        "colab": {
          "base_uri": "https://localhost:8080/",
          "height": 58
        },
        "id": "yP3egDkje1Zj",
        "outputId": "dd93dab6-2874-4239-8719-16a2ec99fb93"
      },
      "execution_count": null,
      "outputs": [
        {
          "output_type": "execute_result",
          "data": {
            "text/plain": [
              "⎛⎡1  0  -3⎤        ⎞\n",
              "⎜⎢        ⎥, (0, 1)⎟\n",
              "⎝⎣0  1  4 ⎦        ⎠"
            ],
            "text/latex": "$\\displaystyle \\left( \\left[\\begin{matrix}1 & 0 & -3\\\\0 & 1 & 4\\end{matrix}\\right], \\  \\left( 0, \\  1\\right)\\right)$"
          },
          "metadata": {},
          "execution_count": 7
        }
      ]
    },
    {
      "cell_type": "markdown",
      "source": [
        "Note that this command returned two elements.  The first is the reduced-row echelon form of the Matrix A.  This is really all we care about.  But, if you are curious: the second element (0, 1) is indicating the indices of the pivot columns.  In Python, the entries start at 0 and not 1.  "
      ],
      "metadata": {
        "id": "tps5F_4rfHWU"
      }
    },
    {
      "cell_type": "markdown",
      "source": [
        "\n",
        "\n",
        "---\n",
        "\n"
      ],
      "metadata": {
        "id": "HahZ1eacc6Wr"
      }
    },
    {
      "cell_type": "markdown",
      "source": [
        "To get the row-echelon form, the code is given below."
      ],
      "metadata": {
        "id": "nSZtr9bZcuMM"
      }
    },
    {
      "cell_type": "code",
      "source": [
        "A.echelon_form()"
      ],
      "metadata": {
        "colab": {
          "base_uri": "https://localhost:8080/",
          "height": 58
        },
        "id": "NA446cYNc-S_",
        "outputId": "fcb70ad1-a4a2-461f-8304-39381b4a3e54"
      },
      "execution_count": null,
      "outputs": [
        {
          "output_type": "execute_result",
          "data": {
            "text/plain": [
              "⎡1  2   5 ⎤\n",
              "⎢         ⎥\n",
              "⎣0  -2  -8⎦"
            ],
            "text/latex": "$\\displaystyle \\left[\\begin{matrix}1 & 2 & 5\\\\0 & -2 & -8\\end{matrix}\\right]$"
          },
          "metadata": {},
          "execution_count": 8
        }
      ]
    },
    {
      "cell_type": "markdown",
      "source": [
        "Your turn!  Create a code cell to find the row-echelon form of the matrix B."
      ],
      "metadata": {
        "id": "0s1tOra-e9f2"
      }
    },
    {
      "cell_type": "markdown",
      "source": [
        "\n",
        "\n",
        "---\n",
        "\n"
      ],
      "metadata": {
        "id": "1gMvx5ksnyH8"
      }
    },
    {
      "cell_type": "markdown",
      "source": [
        "Let's explore Matrix Addition using Python.  I will first define 2 additional matrices, C and L. I will print the matrix A again for reference."
      ],
      "metadata": {
        "id": "r3mBqEw_nzum"
      }
    },
    {
      "cell_type": "code",
      "source": [
        "C = Matrix([[1, 2, 1],[2, 1, 4]])\n",
        "C"
      ],
      "metadata": {
        "colab": {
          "base_uri": "https://localhost:8080/",
          "height": 58
        },
        "id": "YZUnFUNjf8Jm",
        "outputId": "133d0d3f-1642-4610-e5c1-69db0304bded"
      },
      "execution_count": null,
      "outputs": [
        {
          "output_type": "execute_result",
          "data": {
            "text/plain": [
              "⎡1  2  1⎤\n",
              "⎢       ⎥\n",
              "⎣2  1  4⎦"
            ],
            "text/latex": "$\\displaystyle \\left[\\begin{matrix}1 & 2 & 1\\\\2 & 1 & 4\\end{matrix}\\right]$"
          },
          "metadata": {},
          "execution_count": 9
        }
      ]
    },
    {
      "cell_type": "code",
      "source": [
        "L = Matrix([[4,1,2],[1,1,1],[3,4,1]])\n",
        "L"
      ],
      "metadata": {
        "colab": {
          "base_uri": "https://localhost:8080/",
          "height": 78
        },
        "id": "FUObQ8BGlVaA",
        "outputId": "a34dc99c-8ab6-4abd-e1b1-245fcc213107"
      },
      "execution_count": null,
      "outputs": [
        {
          "output_type": "execute_result",
          "data": {
            "text/plain": [
              "⎡4  1  2⎤\n",
              "⎢       ⎥\n",
              "⎢1  1  1⎥\n",
              "⎢       ⎥\n",
              "⎣3  4  1⎦"
            ],
            "text/latex": "$\\displaystyle \\left[\\begin{matrix}4 & 1 & 2\\\\1 & 1 & 1\\\\3 & 4 & 1\\end{matrix}\\right]$"
          },
          "metadata": {},
          "execution_count": 10
        }
      ]
    },
    {
      "cell_type": "code",
      "source": [
        "A"
      ],
      "metadata": {
        "colab": {
          "base_uri": "https://localhost:8080/",
          "height": 58
        },
        "id": "xjvyDLKBoZzp",
        "outputId": "adb27669-e4e1-4f9b-864b-c630faf4eb77"
      },
      "execution_count": null,
      "outputs": [
        {
          "output_type": "execute_result",
          "data": {
            "text/plain": [
              "⎡1  2  5⎤\n",
              "⎢       ⎥\n",
              "⎣3  4  7⎦"
            ],
            "text/latex": "$\\displaystyle \\left[\\begin{matrix}1 & 2 & 5\\\\3 & 4 & 7\\end{matrix}\\right]$"
          },
          "metadata": {},
          "execution_count": 11
        }
      ]
    },
    {
      "cell_type": "markdown",
      "source": [
        "Create a code cell to find C + L.\n"
      ],
      "metadata": {
        "id": "4EtJSGGzoeoj"
      }
    },
    {
      "cell_type": "markdown",
      "source": [
        "\n",
        "\n",
        "---\n",
        "\n"
      ],
      "metadata": {
        "id": "kn_Ykhmho4EO"
      }
    },
    {
      "cell_type": "markdown",
      "source": [
        "Note the colorful error message!"
      ],
      "metadata": {
        "id": "rIxmO-x6yV8x"
      }
    },
    {
      "cell_type": "markdown",
      "source": [
        "Create a code cell to find C + A."
      ],
      "metadata": {
        "id": "b_oFNJvwyjS3"
      }
    },
    {
      "cell_type": "markdown",
      "source": [
        "Our next matrix operation is going to involve Scalar Multiplication.  Remember that a scalar is just a real number. Create a code cell and use it to print out 5 times the matrix L.  Remember that we use the * symbol to represent multiplication."
      ],
      "metadata": {
        "id": "EVTK03UwpBBa"
      }
    },
    {
      "cell_type": "markdown",
      "source": [
        "Create a code cell to find 2A - 4B."
      ],
      "metadata": {
        "id": "w1PlyUWcyu_o"
      }
    },
    {
      "cell_type": "markdown",
      "source": [
        "You may have noted that when you leave your colab notebook and return later you often get unexpected errors. Since you are storing your info in the cloud, those memory cells are only being used temporarily!\n",
        "A good habit upon returning to a notebook is to run all code cells.\n",
        "The keyboard shortcut is Ctrl F9. This will run all code cells, but will stop at the first error. Then you can run the code cells below that.\n",
        "Even though this note is in a text cell, whenever you use the pound symbol, what follows until the end of the sentence is a comment.\n"
      ],
      "metadata": {
        "id": "zi1A8Kufy0vf"
      }
    },
    {
      "cell_type": "markdown",
      "source": [
        "Now we are going to explore some properties of matrices.  Do not worry that we used A above. From this point on A is going to refer to this matrix. This is an amazing feature of Python. In some programming languages you cannot change the type as easily! Python is known for its ease in doing things on the fly! The caveat is: When making changes, you may need to run the codes cells from the top down again! When I get a strange error, this is my goto!"
      ],
      "metadata": {
        "id": "5TieA5ovzJ-a"
      }
    },
    {
      "cell_type": "code",
      "source": [
        "A = Matrix([[1,2],[3,1]])             #it does seem like a lot of brackets!\n",
        "B = Matrix([[3,2],[1,4]])\n",
        "C = Matrix([[2, 4], [5, 10]])"
      ],
      "metadata": {
        "id": "obCveTRGzWqN"
      },
      "execution_count": null,
      "outputs": []
    },
    {
      "cell_type": "markdown",
      "source": [
        "The code to find the inverse of the matrix A is A.inv()\n",
        "In the next code cell I am defining a new matrix A_inverse and using the command above that will find the inverse."
      ],
      "metadata": {
        "id": "P9pOmB7Rz6td"
      }
    },
    {
      "cell_type": "code",
      "source": [
        "A_inverse = A.inv()"
      ],
      "metadata": {
        "id": "R5LyBmzq004G"
      },
      "execution_count": null,
      "outputs": []
    },
    {
      "cell_type": "markdown",
      "source": [
        "Create a code cell and print out the inverse matrix A_inverse."
      ],
      "metadata": {
        "id": "SqvWg0LJ1qR9"
      }
    },
    {
      "cell_type": "markdown",
      "source": [
        "Recall: The inverse of AB is (B-Inverse)(A-Inverse) See the example code below.The Inverse of AB is given below."
      ],
      "metadata": {
        "id": "TO-8YiH6zgU5"
      }
    },
    {
      "cell_type": "code",
      "source": [
        "B.inv()*A.inv()"
      ],
      "metadata": {
        "colab": {
          "base_uri": "https://localhost:8080/",
          "height": 58
        },
        "id": "Qm-ve16lzhG9",
        "outputId": "8c7959a4-4242-4739-d7ff-b4ed82218d2d"
      },
      "execution_count": null,
      "outputs": [
        {
          "output_type": "execute_result",
          "data": {
            "text/plain": [
              "⎡-1/5   1/5 ⎤\n",
              "⎢           ⎥\n",
              "⎣1/5   -1/10⎦"
            ],
            "text/latex": "$\\displaystyle \\left[\\begin{matrix}- \\frac{1}{5} & \\frac{1}{5}\\\\\\frac{1}{5} & - \\frac{1}{10}\\end{matrix}\\right]$"
          },
          "metadata": {},
          "execution_count": 14
        }
      ]
    },
    {
      "cell_type": "code",
      "source": [],
      "metadata": {
        "id": "PlDbAEka2IIL"
      },
      "execution_count": null,
      "outputs": []
    },
    {
      "cell_type": "markdown",
      "source": [
        "Create a code cell and use the command to find the inverse of the matrix C."
      ],
      "metadata": {
        "id": "JZ7dyW1-12yo"
      }
    },
    {
      "cell_type": "markdown",
      "source": [
        "\n",
        "\n",
        "---\n",
        "\n"
      ],
      "metadata": {
        "id": "1ANZ3WImbZzW"
      }
    },
    {
      "cell_type": "markdown",
      "source": [
        "What happened?"
      ],
      "metadata": {
        "id": "Edf8Q2zO2L_x"
      }
    },
    {
      "cell_type": "markdown",
      "source": [
        "The next code cell illustrates how to get the determinant."
      ],
      "metadata": {
        "id": "slgJb68J2jfW"
      }
    },
    {
      "cell_type": "code",
      "source": [
        "C.det()"
      ],
      "metadata": {
        "colab": {
          "base_uri": "https://localhost:8080/",
          "height": 37
        },
        "id": "yCzairvI2jRR",
        "outputId": "40488f0c-4e43-45f2-9fd8-a093c0e0edd6"
      },
      "execution_count": null,
      "outputs": [
        {
          "output_type": "execute_result",
          "data": {
            "text/plain": [
              "0"
            ],
            "image/png": "[encoded data removed]",
            "text/latex": "$\\displaystyle 0$"
          },
          "metadata": {},
          "execution_count": 16
        }
      ]
    },
    {
      "cell_type": "markdown",
      "source": [
        "Now we are going to explore Elementary Matrices.  And use them to put the matrix A in reduced-row echelon form.  In the next code cell, define the matrix Q, as ![2 by 2 matrix.jpg](data:image/jpeg;base64,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)"
      ],
      "metadata": {
        "id": "wJwuN2sR8AB5"
      }
    },
    {
      "cell_type": "code",
      "source": [
        "Q = Matrix([[5,3],[2,4]])"
      ],
      "metadata": {
        "id": "yItoHP-09cvs"
      },
      "execution_count": null,
      "outputs": []
    },
    {
      "cell_type": "markdown",
      "source": [
        "Before we begin with the row operations, you want to make sure the inverse exists.  In the next code cell print the determinant of Q."
      ],
      "metadata": {
        "id": "m1jnOoFw2iyI"
      }
    },
    {
      "cell_type": "code",
      "source": [],
      "metadata": {
        "id": "Ex8IwTZM9o07"
      },
      "execution_count": null,
      "outputs": []
    },
    {
      "cell_type": "markdown",
      "source": [
        "In the next code cell, I am defining the first elementary matrix, E1, that, when multiplied by Q on the left side, will have the effect of multiplying row 2 by 1/2. Since 1/2 is treated as a float in Python, we want to use the command Rational(1, 2) to ensure we get a fraction (otherwise, with Python you will get a float which is a decimal)."
      ],
      "metadata": {
        "id": "hdMSJkYd9pbq"
      }
    },
    {
      "cell_type": "code",
      "source": [
        "E1 = Matrix([[1, 0],[0, Rational(1, 2)]])"
      ],
      "metadata": {
        "id": "NxfahP-9-Gu9"
      },
      "execution_count": null,
      "outputs": []
    },
    {
      "cell_type": "markdown",
      "source": [
        "Show that this has the desired effect by printing E1*Q."
      ],
      "metadata": {
        "id": "KVFjB9pT-LjU"
      }
    },
    {
      "cell_type": "code",
      "source": [],
      "metadata": {
        "id": "OVPNm2xrBGGE"
      },
      "execution_count": null,
      "outputs": []
    },
    {
      "cell_type": "code",
      "source": [],
      "metadata": {
        "id": "-znIJkf7-TFb"
      },
      "execution_count": null,
      "outputs": []
    },
    {
      "cell_type": "markdown",
      "source": [
        "Define the matrix E2 that, when multiplied on the left, will interchange the two rows in the matrix E1*Q."
      ],
      "metadata": {
        "id": "HqCww5lw-l0t"
      }
    },
    {
      "cell_type": "code",
      "source": [],
      "metadata": {
        "id": "SGTTshu0-0gM"
      },
      "execution_count": null,
      "outputs": []
    },
    {
      "cell_type": "markdown",
      "source": [
        "Print the matrix E2*E1*Q to verify that this has the desired effect."
      ],
      "metadata": {
        "id": "Idd2bG6C-02c"
      }
    },
    {
      "cell_type": "code",
      "source": [],
      "metadata": {
        "id": "l5WlL9Z2_CO2"
      },
      "execution_count": null,
      "outputs": []
    },
    {
      "cell_type": "markdown",
      "source": [
        "Define the matrix E3 that will add -5Row1 + Row2 to make the new Row2."
      ],
      "metadata": {
        "id": "gr4obF4A_CoC"
      }
    },
    {
      "cell_type": "code",
      "source": [],
      "metadata": {
        "id": "araxcqxlBiPM"
      },
      "execution_count": null,
      "outputs": []
    },
    {
      "cell_type": "markdown",
      "source": [
        "Print the Product of the matrices E3*E2*E1*Q to verify the operation."
      ],
      "metadata": {
        "id": "aJHSuY1S_Ofp"
      }
    },
    {
      "cell_type": "code",
      "source": [],
      "metadata": {
        "id": "AqXQfhrc_OAG"
      },
      "execution_count": null,
      "outputs": []
    },
    {
      "cell_type": "markdown",
      "source": [
        "Define E4 that will have the effect of multiplying Row 2 by -1/7.  Remember to use the Rational command.  eg.  Rational(a, b) is the fraction a/b."
      ],
      "metadata": {
        "id": "CLalMFJZ_hoh"
      }
    },
    {
      "cell_type": "code",
      "source": [],
      "metadata": {
        "id": "pKk8nEMv_XSp"
      },
      "execution_count": null,
      "outputs": []
    },
    {
      "cell_type": "markdown",
      "source": [
        "Define the elementary matrix E5 that will have the effect of adding -2*Row2 + Row1 and making that the new Row1."
      ],
      "metadata": {
        "id": "qKWbJF2n_trE"
      }
    },
    {
      "cell_type": "code",
      "source": [],
      "metadata": {
        "id": "N2p8ngGO_9kz"
      },
      "execution_count": null,
      "outputs": []
    },
    {
      "cell_type": "markdown",
      "source": [
        "Write the product of the Elementary matrices E5*E4*E3*E2*E1*Q to show that the product is the identity matrix.  "
      ],
      "metadata": {
        "id": "PTyCEoYz_-GR"
      }
    },
    {
      "cell_type": "code",
      "source": [],
      "metadata": {
        "id": "HtuYMF4mCeiq"
      },
      "execution_count": null,
      "outputs": []
    },
    {
      "cell_type": "markdown",
      "source": [
        "Create a Text Cell and share your thoughts about this assignment."
      ],
      "metadata": {
        "id": "zHUh3RYXbbOK"
      }
    },
    {
      "cell_type": "markdown",
      "source": [
        "\n",
        "\n",
        "---\n",
        "\n"
      ],
      "metadata": {
        "id": "yJ9WczpKbFg6"
      }
    },
    {
      "cell_type": "markdown",
      "source": [
        "Once you have completed this notebook, email me the link to your notebook and be sure to make the share settings so that I can view it :)"
      ],
      "metadata": {
        "id": "xHYbbkY1bHkR"
      }
    }
  ]
}